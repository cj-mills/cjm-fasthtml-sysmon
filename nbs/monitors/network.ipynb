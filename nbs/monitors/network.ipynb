{
 "cells": [
  {
   "cell_type": "markdown",
   "id": "cd8f509d-8004-4d48-8d42-ba441e8a36eb",
   "metadata": {},
   "source": [
    "# network monitoring\n",
    "\n",
    "> Network monitoring module."
   ]
  },
  {
   "cell_type": "code",
   "execution_count": null,
   "id": "95db0591-2ffe-42be-9801-577e08b0d02a",
   "metadata": {},
   "outputs": [],
   "source": [
    "#| default_exp monitors.network"
   ]
  },
  {
   "cell_type": "code",
   "execution_count": null,
   "id": "a4ccfc9f-fb79-41c4-ac4f-b45553a118f7",
   "metadata": {},
   "outputs": [],
   "source": [
    "#| hide\n",
    "from nbdev.showdoc import *"
   ]
  },
  {
   "cell_type": "code",
   "execution_count": null,
   "id": "89613b50-e4f3-4a98-aa16-0343961d087f",
   "metadata": {},
   "outputs": [],
   "source": [
    "#| export\n",
    "import time\n",
    "import socket\n",
    "import psutil"
   ]
  },
  {
   "cell_type": "code",
   "execution_count": null,
   "id": "5bbc56ed-fedb-47fb-a531-b9d8fe1d18ab",
   "metadata": {},
   "outputs": [],
   "source": []
  },
  {
   "cell_type": "code",
   "execution_count": null,
   "id": "7e5d5478-0771-4d39-91ee-433f638d3a5a",
   "metadata": {},
   "outputs": [],
   "source": [
    "#| export\n",
    "# Network monitoring state for bandwidth calculation\n",
    "NETWORK_STATS_CACHE = {}"
   ]
  },
  {
   "cell_type": "code",
   "execution_count": null,
   "id": "211e360e-fad8-4e65-ac68-e013ab349d68",
   "metadata": {},
   "outputs": [],
   "source": []
  },
  {
   "cell_type": "code",
   "execution_count": null,
   "id": "8ad556ca-37db-4092-b12f-59e2e995933f",
   "metadata": {},
   "outputs": [],
   "source": [
    "#| export\n",
    "def get_network_info():\n",
    "    \"\"\"Get network interface information and statistics.\"\"\"\n",
    "    interfaces = []\n",
    "    stats = psutil.net_io_counters(pernic=True)\n",
    "    addrs = psutil.net_if_addrs()\n",
    "\n",
    "    current_time = time.time()\n",
    "\n",
    "    for interface, io_stats in stats.items():\n",
    "        # Skip loopback interface\n",
    "        if interface == 'lo' or interface.startswith('veth'):\n",
    "            continue\n",
    "\n",
    "        # Get IP addresses for this interface\n",
    "        ip_addrs = []\n",
    "        if interface in addrs:\n",
    "            for addr in addrs[interface]:\n",
    "                if addr.family == socket.AF_INET:  # IPv4\n",
    "                    ip_addrs.append(addr.address)\n",
    "\n",
    "        # Calculate bandwidth (bytes per second)\n",
    "        bytes_sent_per_sec = 0\n",
    "        bytes_recv_per_sec = 0\n",
    "\n",
    "        if interface in NETWORK_STATS_CACHE:\n",
    "            prev_stats = NETWORK_STATS_CACHE[interface]\n",
    "            time_diff = current_time - prev_stats['time']\n",
    "\n",
    "            if time_diff > 0:\n",
    "                bytes_sent_per_sec = (io_stats.bytes_sent - prev_stats['bytes_sent']) / time_diff\n",
    "                bytes_recv_per_sec = (io_stats.bytes_recv - prev_stats['bytes_recv']) / time_diff\n",
    "\n",
    "        # Update cache\n",
    "        NETWORK_STATS_CACHE[interface] = {\n",
    "            'bytes_sent': io_stats.bytes_sent,\n",
    "            'bytes_recv': io_stats.bytes_recv,\n",
    "            'time': current_time\n",
    "        }\n",
    "\n",
    "        interfaces.append({\n",
    "            'name': interface,\n",
    "            'ip_addresses': ip_addrs,\n",
    "            'bytes_sent': io_stats.bytes_sent,\n",
    "            'bytes_recv': io_stats.bytes_recv,\n",
    "            'packets_sent': io_stats.packets_sent,\n",
    "            'packets_recv': io_stats.packets_recv,\n",
    "            'bytes_sent_per_sec': max(0, bytes_sent_per_sec),  # Ensure non-negative\n",
    "            'bytes_recv_per_sec': max(0, bytes_recv_per_sec),\n",
    "            'errors_in': io_stats.errin,\n",
    "            'errors_out': io_stats.errout,\n",
    "            'drops_in': io_stats.dropin,\n",
    "            'drops_out': io_stats.dropout\n",
    "        })\n",
    "\n",
    "    # Get connection statistics\n",
    "    connections = psutil.net_connections(kind='inet')\n",
    "    conn_stats = {\n",
    "        'total': len(connections),\n",
    "        'established': sum(1 for conn in connections if conn.status == 'ESTABLISHED'),\n",
    "        'listen': sum(1 for conn in connections if conn.status == 'LISTEN'),\n",
    "        'time_wait': sum(1 for conn in connections if conn.status == 'TIME_WAIT'),\n",
    "        'close_wait': sum(1 for conn in connections if conn.status == 'CLOSE_WAIT')\n",
    "    }\n",
    "\n",
    "    return {\n",
    "        'interfaces': interfaces,\n",
    "        'connections': conn_stats\n",
    "    }"
   ]
  },
  {
   "cell_type": "code",
   "execution_count": null,
   "id": "763864b3-361c-4d45-ab4a-5fd4036a2ade",
   "metadata": {},
   "outputs": [
    {
     "data": {
      "text/plain": [
       "{'interfaces': [{'name': 'enp7s0',\n",
       "   'ip_addresses': ['192.168.2.41'],\n",
       "   'bytes_sent': 111225724,\n",
       "   'bytes_recv': 1464784754,\n",
       "   'packets_sent': 337446,\n",
       "   'packets_recv': 1368159,\n",
       "   'bytes_sent_per_sec': 0,\n",
       "   'bytes_recv_per_sec': 0,\n",
       "   'errors_in': 0,\n",
       "   'errors_out': 0,\n",
       "   'drops_in': 0,\n",
       "   'drops_out': 0},\n",
       "  {'name': 'enp8s0',\n",
       "   'ip_addresses': [],\n",
       "   'bytes_sent': 0,\n",
       "   'bytes_recv': 0,\n",
       "   'packets_sent': 0,\n",
       "   'packets_recv': 0,\n",
       "   'bytes_sent_per_sec': 0,\n",
       "   'bytes_recv_per_sec': 0,\n",
       "   'errors_in': 0,\n",
       "   'errors_out': 0,\n",
       "   'drops_in': 0,\n",
       "   'drops_out': 0},\n",
       "  {'name': 'wlp15s0',\n",
       "   'ip_addresses': [],\n",
       "   'bytes_sent': 0,\n",
       "   'bytes_recv': 0,\n",
       "   'packets_sent': 0,\n",
       "   'packets_recv': 0,\n",
       "   'bytes_sent_per_sec': 0,\n",
       "   'bytes_recv_per_sec': 0,\n",
       "   'errors_in': 0,\n",
       "   'errors_out': 0,\n",
       "   'drops_in': 0,\n",
       "   'drops_out': 0},\n",
       "  {'name': 'docker0',\n",
       "   'ip_addresses': ['172.17.0.1'],\n",
       "   'bytes_sent': 0,\n",
       "   'bytes_recv': 0,\n",
       "   'packets_sent': 0,\n",
       "   'packets_recv': 0,\n",
       "   'bytes_sent_per_sec': 0,\n",
       "   'bytes_recv_per_sec': 0,\n",
       "   'errors_in': 0,\n",
       "   'errors_out': 0,\n",
       "   'drops_in': 0,\n",
       "   'drops_out': 52}],\n",
       " 'connections': {'total': 313,\n",
       "  'established': 199,\n",
       "  'listen': 80,\n",
       "  'time_wait': 24,\n",
       "  'close_wait': 3}}"
      ]
     },
     "execution_count": null,
     "metadata": {},
     "output_type": "execute_result"
    }
   ],
   "source": [
    "get_network_info()"
   ]
  },
  {
   "cell_type": "code",
   "execution_count": null,
   "id": "fcf1392e-a424-4562-ac61-c2b63a27b97f",
   "metadata": {},
   "outputs": [
    {
     "data": {
      "text/plain": [
       "{'enp7s0': {'bytes_sent': 111225724,\n",
       "  'bytes_recv': 1464784754,\n",
       "  'time': 1759281450.9512415},\n",
       " 'enp8s0': {'bytes_sent': 0, 'bytes_recv': 0, 'time': 1759281450.9512415},\n",
       " 'wlp15s0': {'bytes_sent': 0, 'bytes_recv': 0, 'time': 1759281450.9512415},\n",
       " 'docker0': {'bytes_sent': 0, 'bytes_recv': 0, 'time': 1759281450.9512415}}"
      ]
     },
     "execution_count": null,
     "metadata": {},
     "output_type": "execute_result"
    }
   ],
   "source": [
    "NETWORK_STATS_CACHE"
   ]
  },
  {
   "cell_type": "code",
   "execution_count": null,
   "id": "4b5dbc01-268c-426a-946b-0db6e3f52ae9",
   "metadata": {},
   "outputs": [],
   "source": []
  },
  {
   "cell_type": "code",
   "execution_count": null,
   "id": "dbd2228d-1c08-4c81-be69-eadf0126204b",
   "metadata": {},
   "outputs": [],
   "source": []
  },
  {
   "cell_type": "code",
   "execution_count": null,
   "id": "0f11627e-d569-4fc9-ad84-a09a3b74b95d",
   "metadata": {},
   "outputs": [],
   "source": []
  },
  {
   "cell_type": "code",
   "execution_count": null,
   "id": "a966ceac-4168-4b9e-9ca6-b27db51013e1",
   "metadata": {},
   "outputs": [],
   "source": []
  },
  {
   "cell_type": "code",
   "execution_count": null,
   "id": "a2f37679-14a3-47ed-86c1-97e96320e1fd",
   "metadata": {},
   "outputs": [],
   "source": [
    "#| hide\n",
    "import nbdev; nbdev.nbdev_export()"
   ]
  }
 ],
 "metadata": {
  "kernelspec": {
   "display_name": "python3",
   "language": "python",
   "name": "python3"
  }
 },
 "nbformat": 4,
 "nbformat_minor": 5
}

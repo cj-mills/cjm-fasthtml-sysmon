{
 "cells": [
  {
   "cell_type": "markdown",
   "id": "cd8f509d-8004-4d48-8d42-ba441e8a36eb",
   "metadata": {},
   "source": [
    "# CPU monitoring\n",
    "\n",
    "> CPU monitoring module."
   ]
  },
  {
   "cell_type": "code",
   "execution_count": null,
   "id": "95db0591-2ffe-42be-9801-577e08b0d02a",
   "metadata": {},
   "outputs": [],
   "source": [
    "#| default_exp monitors.cpu"
   ]
  },
  {
   "cell_type": "code",
   "execution_count": null,
   "id": "a4ccfc9f-fb79-41c4-ac4f-b45553a118f7",
   "metadata": {},
   "outputs": [],
   "source": [
    "#| hide\n",
    "from nbdev.showdoc import *"
   ]
  },
  {
   "cell_type": "code",
   "execution_count": null,
   "id": "89613b50-e4f3-4a98-aa16-0343961d087f",
   "metadata": {},
   "outputs": [],
   "source": [
    "#| export\n",
    "import psutil"
   ]
  },
  {
   "cell_type": "code",
   "execution_count": null,
   "id": "5bbc56ed-fedb-47fb-a531-b9d8fe1d18ab",
   "metadata": {},
   "outputs": [],
   "source": []
  },
  {
   "cell_type": "code",
   "execution_count": null,
   "id": "8ad556ca-37db-4092-b12f-59e2e995933f",
   "metadata": {},
   "outputs": [],
   "source": "#| export\ndef get_cpu_info():  # A dictionary containing CPU usage information\n    \"\"\"Get current CPU usage information.\"\"\"\n    cpu_percent = psutil.cpu_percent(interval=0.1, percpu=False)\n    cpu_percent_per_core = psutil.cpu_percent(interval=0.1, percpu=True)\n    cpu_freq = psutil.cpu_freq()\n\n    return {\n        'percent': cpu_percent,\n        'percent_per_core': cpu_percent_per_core,\n        'frequency_current': cpu_freq.current if cpu_freq else 0,\n        'frequency_min': cpu_freq.min if cpu_freq else 0,\n        'frequency_max': cpu_freq.max if cpu_freq else 0,\n    }"
  },
  {
   "cell_type": "code",
   "execution_count": null,
   "id": "763864b3-361c-4d45-ab4a-5fd4036a2ade",
   "metadata": {},
   "outputs": [
    {
     "data": {
      "text/plain": [
       "{'percent': 0.6,\n",
       " 'percent_per_core': [0.0,\n",
       "  9.1,\n",
       "  0.0,\n",
       "  0.0,\n",
       "  0.0,\n",
       "  0.0,\n",
       "  0.0,\n",
       "  0.0,\n",
       "  9.1,\n",
       "  0.0,\n",
       "  0.0,\n",
       "  0.0,\n",
       "  0.0,\n",
       "  0.0,\n",
       "  0.0,\n",
       "  0.0,\n",
       "  0.0,\n",
       "  0.0,\n",
       "  0.0,\n",
       "  0.0,\n",
       "  0.0,\n",
       "  18.2,\n",
       "  0.0,\n",
       "  0.0,\n",
       "  0.0,\n",
       "  0.0,\n",
       "  0.0,\n",
       "  0.0,\n",
       "  0.0,\n",
       "  0.0,\n",
       "  0.0,\n",
       "  0.0],\n",
       " 'frequency_current': 3059.68496875,\n",
       " 'frequency_min': 2982.0,\n",
       " 'frequency_max': 5756.0}"
      ]
     },
     "execution_count": null,
     "metadata": {},
     "output_type": "execute_result"
    }
   ],
   "source": [
    "get_cpu_info()"
   ]
  },
  {
   "cell_type": "code",
   "execution_count": null,
   "id": "fcf1392e-a424-4562-ac61-c2b63a27b97f",
   "metadata": {},
   "outputs": [],
   "source": []
  },
  {
   "cell_type": "code",
   "execution_count": null,
   "id": "4b5dbc01-268c-426a-946b-0db6e3f52ae9",
   "metadata": {},
   "outputs": [],
   "source": []
  },
  {
   "cell_type": "code",
   "execution_count": null,
   "id": "dbd2228d-1c08-4c81-be69-eadf0126204b",
   "metadata": {},
   "outputs": [],
   "source": []
  },
  {
   "cell_type": "code",
   "execution_count": null,
   "id": "0f11627e-d569-4fc9-ad84-a09a3b74b95d",
   "metadata": {},
   "outputs": [],
   "source": []
  },
  {
   "cell_type": "code",
   "execution_count": null,
   "id": "a966ceac-4168-4b9e-9ca6-b27db51013e1",
   "metadata": {},
   "outputs": [],
   "source": []
  },
  {
   "cell_type": "code",
   "execution_count": null,
   "id": "a2f37679-14a3-47ed-86c1-97e96320e1fd",
   "metadata": {},
   "outputs": [],
   "source": [
    "#| hide\n",
    "import nbdev; nbdev.nbdev_export()"
   ]
  }
 ],
 "metadata": {
  "kernelspec": {
   "display_name": "python3",
   "language": "python",
   "name": "python3"
  }
 },
 "nbformat": 4,
 "nbformat_minor": 5
}

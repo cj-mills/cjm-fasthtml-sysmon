{
 "cells": [
  {
   "cell_type": "markdown",
   "id": "cd8f509d-8004-4d48-8d42-ba441e8a36eb",
   "metadata": {},
   "source": [
    "# Process monitoring\n",
    "\n",
    "> Process monitoring module."
   ]
  },
  {
   "cell_type": "code",
   "execution_count": null,
   "id": "95db0591-2ffe-42be-9801-577e08b0d02a",
   "metadata": {},
   "outputs": [],
   "source": [
    "#| default_exp monitors.process"
   ]
  },
  {
   "cell_type": "code",
   "execution_count": null,
   "id": "a4ccfc9f-fb79-41c4-ac4f-b45553a118f7",
   "metadata": {},
   "outputs": [],
   "source": [
    "#| hide\n",
    "from nbdev.showdoc import *"
   ]
  },
  {
   "cell_type": "code",
   "execution_count": null,
   "id": "89613b50-e4f3-4a98-aa16-0343961d087f",
   "metadata": {},
   "outputs": [],
   "source": [
    "#| export\n",
    "import psutil"
   ]
  },
  {
   "cell_type": "code",
   "execution_count": null,
   "id": "5bbc56ed-fedb-47fb-a531-b9d8fe1d18ab",
   "metadata": {},
   "outputs": [],
   "source": []
  },
  {
   "cell_type": "code",
   "execution_count": null,
   "id": "8ad556ca-37db-4092-b12f-59e2e995933f",
   "metadata": {},
   "outputs": [],
   "source": [
    "#| export\n",
    "def get_process_info(top_n:int=5):\n",
    "    \"\"\"Get top processes by CPU and memory usage.\"\"\"\n",
    "    processes = []\n",
    "\n",
    "    # Get all processes with their info\n",
    "    for proc in psutil.process_iter(['pid', 'name', 'cpu_percent', 'memory_percent', 'memory_info', 'username', 'status']):\n",
    "        try:\n",
    "            pinfo = proc.info\n",
    "            # Skip kernel threads and processes with 0% CPU and memory\n",
    "            if pinfo['cpu_percent'] is not None and (pinfo['cpu_percent'] > 0 or pinfo['memory_percent'] > 0):\n",
    "                processes.append({\n",
    "                    'pid': pinfo['pid'],\n",
    "                    'name': pinfo['name'],\n",
    "                    'cpu_percent': pinfo['cpu_percent'] or 0,\n",
    "                    'memory_percent': pinfo['memory_percent'] or 0,\n",
    "                    'memory_mb': pinfo['memory_info'].rss / (1024 * 1024) if pinfo['memory_info'] else 0,\n",
    "                    'username': pinfo['username'] if pinfo['username'] else 'N/A',\n",
    "                    'status': pinfo['status'] if pinfo['status'] else 'unknown'\n",
    "                })\n",
    "        except (psutil.NoSuchProcess, psutil.AccessDenied, psutil.ZombieProcess):\n",
    "            continue\n",
    "\n",
    "    # Sort by CPU usage and get top N\n",
    "    top_cpu = sorted(processes, key=lambda x: x['cpu_percent'], reverse=True)[:top_n]\n",
    "\n",
    "    # Sort by memory usage and get top N\n",
    "    top_memory = sorted(processes, key=lambda x: x['memory_percent'], reverse=True)[:top_n]\n",
    "\n",
    "    # Get total process count\n",
    "    total_processes = len(processes)\n",
    "\n",
    "    # Get process status counts\n",
    "    status_counts = {}\n",
    "    for proc in processes:\n",
    "        status = proc['status']\n",
    "        status_counts[status] = status_counts.get(status, 0) + 1\n",
    "\n",
    "    return {\n",
    "        'top_cpu': top_cpu,\n",
    "        'top_memory': top_memory,\n",
    "        'total': total_processes,\n",
    "        'status_counts': status_counts\n",
    "    }"
   ]
  },
  {
   "cell_type": "code",
   "execution_count": null,
   "id": "763864b3-361c-4d45-ab4a-5fd4036a2ade",
   "metadata": {},
   "outputs": [
    {
     "data": {
      "text/plain": [
       "{'top_cpu': [{'pid': 1,\n",
       "   'name': 'systemd',\n",
       "   'cpu_percent': 0,\n",
       "   'memory_percent': 0.014269958552766296,\n",
       "   'memory_mb': 13.42578125,\n",
       "   'username': 'root',\n",
       "   'status': 'sleeping'},\n",
       "  {'pid': 623,\n",
       "   'name': 'systemd-journald',\n",
       "   'cpu_percent': 0,\n",
       "   'memory_percent': 0.017566539027277915,\n",
       "   'memory_mb': 16.52734375,\n",
       "   'username': 'root',\n",
       "   'status': 'sleeping'},\n",
       "  {'pid': 717,\n",
       "   'name': 'systemd-udevd',\n",
       "   'cpu_percent': 0,\n",
       "   'memory_percent': 0.007506571156066762,\n",
       "   'memory_mb': 7.0625,\n",
       "   'username': 'root',\n",
       "   'status': 'sleeping'},\n",
       "  {'pid': 1218,\n",
       "   'name': 'systemd-oomd',\n",
       "   'cpu_percent': 0,\n",
       "   'memory_percent': 0.006784146719586885,\n",
       "   'memory_mb': 6.3828125,\n",
       "   'username': 'systemd-oom',\n",
       "   'status': 'sleeping'},\n",
       "  {'pid': 1270,\n",
       "   'name': 'systemd-resolved',\n",
       "   'cpu_percent': 0,\n",
       "   'memory_percent': 0.011853573368678432,\n",
       "   'memory_mb': 11.15234375,\n",
       "   'username': 'systemd-resolve',\n",
       "   'status': 'sleeping'}],\n",
       " 'top_memory': [{'pid': 10233,\n",
       "   'name': 'firefox',\n",
       "   'cpu_percent': 0,\n",
       "   'memory_percent': 2.066187862571954,\n",
       "   'memory_mb': 1943.95703125,\n",
       "   'username': 'innom-dt',\n",
       "   'status': 'sleeping'},\n",
       "  {'pid': 8589,\n",
       "   'name': 'code',\n",
       "   'cpu_percent': 0,\n",
       "   'memory_percent': 1.0927624530610949,\n",
       "   'memory_mb': 1028.1171875,\n",
       "   'username': 'innom-dt',\n",
       "   'status': 'sleeping'},\n",
       "  {'pid': 11026,\n",
       "   'name': 'Isolated Web Co',\n",
       "   'cpu_percent': 0,\n",
       "   'memory_percent': 0.9477751901512458,\n",
       "   'memory_mb': 891.70703125,\n",
       "   'username': 'innom-dt',\n",
       "   'status': 'sleeping'},\n",
       "  {'pid': 5587,\n",
       "   'name': 'gnome-shell',\n",
       "   'cpu_percent': 0,\n",
       "   'memory_percent': 0.6959355404756143,\n",
       "   'memory_mb': 654.765625,\n",
       "   'username': 'innom-dt',\n",
       "   'status': 'running'},\n",
       "  {'pid': 369477,\n",
       "   'name': 'Isolated Web Co',\n",
       "   'cpu_percent': 0,\n",
       "   'memory_percent': 0.5182897107993818,\n",
       "   'memory_mb': 487.62890625,\n",
       "   'username': 'innom-dt',\n",
       "   'status': 'sleeping'}],\n",
       " 'total': 225,\n",
       " 'status_counts': {'sleeping': 223, 'running': 2}}"
      ]
     },
     "execution_count": null,
     "metadata": {},
     "output_type": "execute_result"
    }
   ],
   "source": [
    "get_process_info()"
   ]
  },
  {
   "cell_type": "code",
   "execution_count": null,
   "id": "fcf1392e-a424-4562-ac61-c2b63a27b97f",
   "metadata": {},
   "outputs": [],
   "source": []
  },
  {
   "cell_type": "code",
   "execution_count": null,
   "id": "4b5dbc01-268c-426a-946b-0db6e3f52ae9",
   "metadata": {},
   "outputs": [],
   "source": []
  },
  {
   "cell_type": "code",
   "execution_count": null,
   "id": "dbd2228d-1c08-4c81-be69-eadf0126204b",
   "metadata": {},
   "outputs": [],
   "source": []
  },
  {
   "cell_type": "code",
   "execution_count": null,
   "id": "0f11627e-d569-4fc9-ad84-a09a3b74b95d",
   "metadata": {},
   "outputs": [],
   "source": []
  },
  {
   "cell_type": "code",
   "execution_count": null,
   "id": "a966ceac-4168-4b9e-9ca6-b27db51013e1",
   "metadata": {},
   "outputs": [],
   "source": []
  },
  {
   "cell_type": "code",
   "execution_count": null,
   "id": "a2f37679-14a3-47ed-86c1-97e96320e1fd",
   "metadata": {},
   "outputs": [],
   "source": [
    "#| hide\n",
    "import nbdev; nbdev.nbdev_export()"
   ]
  }
 ],
 "metadata": {
  "kernelspec": {
   "display_name": "python3",
   "language": "python",
   "name": "python3"
  }
 },
 "nbformat": 4,
 "nbformat_minor": 5
}

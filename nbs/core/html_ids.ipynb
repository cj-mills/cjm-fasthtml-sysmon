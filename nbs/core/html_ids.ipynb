{
 "cells": [
  {
   "cell_type": "markdown",
   "id": "04b451fa",
   "metadata": {},
   "source": [
    "# HTML IDs\n",
    "\n",
    "> Centralized HTML ID constants for the application"
   ]
  },
  {
   "cell_type": "code",
   "execution_count": null,
   "id": "480b5f0b",
   "metadata": {},
   "outputs": [],
   "source": [
    "#| default_exp core.html_ids"
   ]
  },
  {
   "cell_type": "code",
   "execution_count": null,
   "id": "ea00d746-56ca-4a59-80db-8fe9cd120475",
   "metadata": {},
   "outputs": [],
   "source": [
    "#| hide\n",
    "from nbdev.showdoc import *"
   ]
  },
  {
   "cell_type": "code",
   "execution_count": null,
   "id": "2590c6ad",
   "metadata": {},
   "outputs": [],
   "source": [
    "#| export\n",
    "class HtmlIds:\n",
    "    \"\"\"HTML ID constants used throughout the application.\"\"\"\n",
    "\n",
    "    # Process management\n",
    "    PROCESS_COUNT = \"process-count\"\n",
    "    PROCESS_STATUS = \"process-status\"\n",
    "\n",
    "    # Tables\n",
    "    CPU_PROCESSES_TABLE = \"cpu-processes-table\"\n",
    "    MEMORY_PROCESSES_TABLE = \"memory-processes-table\"\n",
    "    GPU_PROCESSES_TABLE = \"gpu-processes-table\"  # NEW - for GPU processes table\n",
    "    GPU_PROCESSES_TABLE_BODY = \"gpu-processes-table-body\"  # NEW - for GPU processes table body\n",
    "\n",
    "    # Card bodies (main content containers)\n",
    "    CPU_CARD_BODY = \"cpu-card-body\"\n",
    "    MEMORY_CARD_BODY = \"memory-card-body\"\n",
    "    DISK_CARD_BODY = \"disk-card-body\"\n",
    "    NETWORK_CARD_BODY = \"network-card-body\"\n",
    "    PROCESS_CARD_BODY = \"process-card-body\"\n",
    "    GPU_CARD_BODY = \"gpu-card-body\"\n",
    "    TEMPERATURE_CARD_BODY = \"temperature-card-body\"\n",
    "\n",
    "    # Card containers\n",
    "    CPU_CARD = \"cpu-card\"\n",
    "    MEMORY_CARD = \"memory-card\"\n",
    "    DISK_CARD = \"disk-card\"\n",
    "    NETWORK_CARD = \"network-card\"\n",
    "    PROCESS_CARD = \"process-card\"\n",
    "    GPU_CARD = \"gpu-card\"\n",
    "    TEMPERATURE_CARD = \"temperature-card\"\n",
    "\n",
    "    # Tab navigation\n",
    "    CPU_TAB = \"cpu-tab\"\n",
    "    MEM_TAB = \"mem-tab\"\n",
    "\n",
    "    # Tab content containers\n",
    "    CPU_PROCESSES = \"cpu-processes\"\n",
    "    MEMORY_PROCESSES = \"memory-processes\"\n",
    "\n",
    "    # Settings modal\n",
    "    SETTINGS_MODAL = \"settings_modal\"\n",
    "\n",
    "    # Interval controls\n",
    "    CPU_INTERVAL = \"cpu-interval\"\n",
    "    CPU_INTERVAL_VALUE = \"cpu-interval-value\"\n",
    "    MEMORY_INTERVAL = \"memory-interval\"\n",
    "    MEMORY_INTERVAL_VALUE = \"memory-interval-value\"\n",
    "    DISK_INTERVAL = \"disk-interval\"\n",
    "    DISK_INTERVAL_VALUE = \"disk-interval-value\"\n",
    "    NETWORK_INTERVAL = \"network-interval\"\n",
    "    NETWORK_INTERVAL_VALUE = \"network-interval-value\"\n",
    "    PROCESS_INTERVAL = \"process-interval\"\n",
    "    PROCESS_INTERVAL_VALUE = \"process-interval-value\"\n",
    "    GPU_INTERVAL = \"gpu-interval\"\n",
    "    GPU_INTERVAL_VALUE = \"gpu-interval-value\"\n",
    "    TEMPERATURE_INTERVAL = \"temperature-interval\"\n",
    "    TEMPERATURE_INTERVAL_VALUE = \"temperature-interval-value\"\n",
    "\n",
    "    # SSE and status\n",
    "    SSE_CONNECTION = \"sse-connection\"\n",
    "    CONNECTION_STATUS = \"connection-status\"\n",
    "    TIMESTAMP = \"timestamp\"\n",
    "\n",
    "    # NEW - Granular content sections for better scroll preservation\n",
    "    # GPU card sections\n",
    "    GPU_METRICS = \"gpu-metrics\"  # GPU utilization, memory, temp, power metrics\n",
    "    GPU_PROCESSES_SECTION = \"gpu-processes-section\"  # Entire GPU processes section\n",
    "\n",
    "    # Network card sections\n",
    "    NETWORK_INTERFACES = \"network-interfaces\"  # Network interfaces list\n",
    "    NETWORK_CONNECTIONS = \"network-connections\"  # Connection statistics\n",
    "\n",
    "    # Disk card sections\n",
    "    DISK_ENTRIES = \"disk-entries\"  # Disk entries list\n",
    "\n",
    "    # Temperature card sections\n",
    "    TEMPERATURE_SENSORS = \"temperature-sensors\"  # Temperature sensors list\n",
    "\n",
    "    @staticmethod\n",
    "    def as_selector(id_str: str) -> str:\n",
    "        \"\"\"Convert an ID to a CSS selector format (with #).\"\"\"\n",
    "        return f\"#{id_str}\""
   ]
  },
  {
   "cell_type": "code",
   "execution_count": null,
   "id": "3be51eb3-c1ac-4de4-814e-008903bb3acf",
   "metadata": {},
   "outputs": [],
   "source": []
  },
  {
   "cell_type": "code",
   "execution_count": null,
   "id": "bb56341f-abed-4ed8-9aa1-a7ced76df3a4",
   "metadata": {},
   "outputs": [],
   "source": []
  },
  {
   "cell_type": "code",
   "execution_count": null,
   "id": "b25fb5b5-1158-4198-a708-0e643239d057",
   "metadata": {},
   "outputs": [],
   "source": []
  },
  {
   "cell_type": "code",
   "execution_count": null,
   "id": "c380fc36-7c1f-4c2b-a09e-518f1dc4b299",
   "metadata": {},
   "outputs": [],
   "source": [
    "#| hide\n",
    "import nbdev; nbdev.nbdev_export()"
   ]
  }
 ],
 "metadata": {
  "kernelspec": {
   "display_name": "python3",
   "language": "python",
   "name": "python3"
  }
 },
 "nbformat": 4,
 "nbformat_minor": 5
}

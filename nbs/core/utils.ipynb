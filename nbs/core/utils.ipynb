{
 "cells": [
  {
   "cell_type": "markdown",
   "id": "cd8f509d-8004-4d48-8d42-ba441e8a36eb",
   "metadata": {},
   "source": [
    "# utils\n",
    "\n",
    "> Utility functions for system monitoring"
   ]
  },
  {
   "cell_type": "code",
   "execution_count": null,
   "id": "95db0591-2ffe-42be-9801-577e08b0d02a",
   "metadata": {},
   "outputs": [],
   "source": [
    "#| default_exp core.utils"
   ]
  },
  {
   "cell_type": "code",
   "execution_count": null,
   "id": "a4ccfc9f-fb79-41c4-ac4f-b45553a118f7",
   "metadata": {},
   "outputs": [],
   "source": [
    "#| hide\n",
    "from nbdev.showdoc import *"
   ]
  },
  {
   "cell_type": "code",
   "execution_count": null,
   "id": "89613b50-e4f3-4a98-aa16-0343961d087f",
   "metadata": {},
   "outputs": [],
   "source": [
    "#| export\n",
    "import socket\n",
    "import webbrowser\n",
    "import subprocess\n",
    "import sys\n",
    "from contextlib import closing\n",
    "from datetime import datetime\n",
    "\n",
    "# DaisyUI imports\n",
    "from cjm_fasthtml_daisyui.components.data_display.badge import badge_colors\n",
    "from cjm_fasthtml_daisyui.components.feedback.progress import progress_colors\n",
    "from cjm_fasthtml_daisyui.utilities.semantic_colors import text_dui\n",
    "from cjm_fasthtml_daisyui.builders.colors import ColoredUtilityDaisyUI\n",
    "from cjm_fasthtml_tailwind.core.base import SingleValueUtility"
   ]
  },
  {
   "cell_type": "code",
   "execution_count": null,
   "id": "0b4c3ded-aa70-4061-9f8c-3701b1affb91",
   "metadata": {},
   "outputs": [],
   "source": []
  },
  {
   "cell_type": "code",
   "execution_count": null,
   "id": "e2d196a4-a9d2-458c-ae5e-e3518fc525ca",
   "metadata": {},
   "outputs": [],
   "source": [
    "#| export\n",
    "def find_free_port() -> int:  # An available port number\n",
    "    \"\"\"Find an available port.\"\"\"\n",
    "    with closing(socket.socket(socket.AF_INET, socket.SOCK_STREAM)) as s:\n",
    "        s.bind(('', 0))\n",
    "        s.setsockopt(socket.SOL_SOCKET, socket.SO_REUSEADDR, 1)\n",
    "        return s.getsockname()[1]"
   ]
  },
  {
   "cell_type": "code",
   "execution_count": null,
   "id": "efd3a391-2508-4f65-9294-9c20cdfb2a0c",
   "metadata": {},
   "outputs": [],
   "source": [
    "#| export\n",
    "def format_bytes(\n",
    "    bytes_value:int  # The number of bytes to format\n",
    ") -> str:  # A formatted string representation of the byte value\n",
    "    \"\"\"Format bytes to human readable string.\"\"\"\n",
    "    for unit in ['B', 'KB', 'MB', 'GB', 'TB']:\n",
    "        if bytes_value < 1024.0:\n",
    "            return f\"{bytes_value:.1f} {unit}\"\n",
    "        bytes_value /= 1024.0\n",
    "    return f\"{bytes_value:.1f} PB\""
   ]
  },
  {
   "cell_type": "code",
   "execution_count": null,
   "id": "3e24c367-a4f9-42d4-82a1-c0a941ef793e",
   "metadata": {},
   "outputs": [],
   "source": [
    "#| export\n",
    "def format_bandwidth(\n",
    "    bytes_per_sec:float  # The number of bytes per second to format\n",
    ") -> str:  # A formatted string representation of the bandwidth value\n",
    "    \"\"\"Format bandwidth to human readable string.\"\"\"\n",
    "    if bytes_per_sec < 1024:\n",
    "        return f\"{bytes_per_sec:.0f} B/s\"\n",
    "    elif bytes_per_sec < 1024 * 1024:\n",
    "        return f\"{bytes_per_sec / 1024:.1f} KB/s\"\n",
    "    elif bytes_per_sec < 1024 * 1024 * 1024:\n",
    "        return f\"{bytes_per_sec / (1024 * 1024):.1f} MB/s\"\n",
    "    else:\n",
    "        return f\"{bytes_per_sec / (1024 * 1024 * 1024):.1f} GB/s\""
   ]
  },
  {
   "cell_type": "code",
   "execution_count": null,
   "id": "77bc0ddd-682a-4dbd-bfad-5c406c2fb969",
   "metadata": {},
   "outputs": [],
   "source": [
    "#| export\n",
    "def format_uptime(\n",
    "    boot_time_str:str  # Boot time in '%Y-%m-%d %H:%M:%S' format\n",
    ") -> str:  # A formatted string representation of the uptime\n",
    "    \"\"\"Format uptime from boot time string.\"\"\"\n",
    "    boot_time = datetime.strptime(boot_time_str, '%Y-%m-%d %H:%M:%S')\n",
    "    uptime = datetime.now() - boot_time\n",
    "    days = uptime.days\n",
    "    hours = uptime.seconds // 3600\n",
    "    minutes = (uptime.seconds % 3600) // 60\n",
    "\n",
    "    if days > 0:\n",
    "        return f\"{days}d {hours}h {minutes}m\"\n",
    "    elif hours > 0:\n",
    "        return f\"{hours}h {minutes}m\"\n",
    "    else:\n",
    "        return f\"{minutes}m\""
   ]
  },
  {
   "cell_type": "code",
   "execution_count": null,
   "id": "bddd7afe-de24-4fd1-82d8-c76384854d7a",
   "metadata": {},
   "outputs": [],
   "source": [
    "#| export\n",
    "def get_progress_color(\n",
    "    percent:float  # The percentage value to determine color for\n",
    ") -> SingleValueUtility:  # A progress color from the DaisyUI color scheme\n",
    "    \"\"\"Get progress bar color based on percentage.\"\"\"\n",
    "    if percent < 50:\n",
    "        return progress_colors.success\n",
    "    elif percent < 80:\n",
    "        return progress_colors.warning\n",
    "    else:\n",
    "        return progress_colors.error"
   ]
  },
  {
   "cell_type": "code",
   "execution_count": null,
   "id": "67526595-30dc-40d1-932e-f5c6b79722b0",
   "metadata": {},
   "outputs": [],
   "source": [
    "#| export\n",
    "def get_temperature_color(\n",
    "    temp_celsius:float,  # The temperature value in Celsius\n",
    "    high:int=85,  # The threshold for high temperature\n",
    "    critical:int=95  # The threshold for critical temperature\n",
    ") -> ColoredUtilityDaisyUI:  # A text color from the DaisyUI semantic colors\n",
    "    \"\"\"Get color for temperature display.\"\"\"\n",
    "    if temp_celsius < 50:\n",
    "        return text_dui.success\n",
    "    elif temp_celsius < 70:\n",
    "        return text_dui.primary\n",
    "    elif temp_celsius < high:\n",
    "        return text_dui.warning\n",
    "    else:\n",
    "        return text_dui.error"
   ]
  },
  {
   "cell_type": "code",
   "execution_count": null,
   "id": "9d5482bb-a63c-4027-b760-0a1a82740480",
   "metadata": {},
   "outputs": [],
   "source": [
    "#| export\n",
    "def get_temperature_badge_color(\n",
    "    temp_celsius:float,  # The temperature value in Celsius\n",
    "    high:int=85,  # The threshold for high temperature\n",
    "    critical:int=95  # The threshold for critical temperature\n",
    ") -> SingleValueUtility:  # A badge color from the DaisyUI color scheme\n",
    "    \"\"\"Get badge color for temperature.\"\"\"\n",
    "    if temp_celsius < 50:\n",
    "        return badge_colors.success\n",
    "    elif temp_celsius < 70:\n",
    "        return badge_colors.primary\n",
    "    elif temp_celsius < high:\n",
    "        return badge_colors.warning\n",
    "    else:\n",
    "        return badge_colors.error"
   ]
  },
  {
   "cell_type": "code",
   "execution_count": null,
   "id": "8ad556ca-37db-4092-b12f-59e2e995933f",
   "metadata": {},
   "outputs": [],
   "source": [
    "#| export\n",
    "def open_browser(\n",
    "    url:str  # The URL to open in the browser\n",
    ") -> None:  # None\n",
    "    \"\"\"Open browser based on environment settings.\"\"\"\n",
    "    import os\n",
    "\n",
    "    browser_mode = os.environ.get('FASTHTML_BROWSER', 'default').lower()\n",
    "\n",
    "    if browser_mode == 'none':\n",
    "        print(f\"Server running at {url}\")\n",
    "        print(\"Browser auto-open disabled. Please open manually.\")\n",
    "        return\n",
    "\n",
    "    if browser_mode == 'app':\n",
    "        print(f\"Opening in app mode at {url}\")\n",
    "\n",
    "        if sys.platform == 'linux':\n",
    "            browsers = [\n",
    "                ['google-chrome', '--app=' + url],\n",
    "                ['chromium', '--app=' + url],\n",
    "                ['firefox', '--new-window', url],\n",
    "            ]\n",
    "\n",
    "            for browser_cmd in browsers:\n",
    "                try:\n",
    "                    subprocess.Popen(browser_cmd,\n",
    "                                   stdout=subprocess.DEVNULL,\n",
    "                                   stderr=subprocess.DEVNULL)\n",
    "                    return\n",
    "                except FileNotFoundError:\n",
    "                    continue\n",
    "\n",
    "    print(f\"Opening in browser at {url}\")\n",
    "    webbrowser.open(url)"
   ]
  },
  {
   "cell_type": "code",
   "execution_count": null,
   "id": "fcf1392e-a424-4562-ac61-c2b63a27b97f",
   "metadata": {},
   "outputs": [],
   "source": []
  },
  {
   "cell_type": "code",
   "execution_count": null,
   "id": "4b5dbc01-268c-426a-946b-0db6e3f52ae9",
   "metadata": {},
   "outputs": [],
   "source": []
  },
  {
   "cell_type": "code",
   "execution_count": null,
   "id": "dbd2228d-1c08-4c81-be69-eadf0126204b",
   "metadata": {},
   "outputs": [],
   "source": []
  },
  {
   "cell_type": "code",
   "execution_count": null,
   "id": "0f11627e-d569-4fc9-ad84-a09a3b74b95d",
   "metadata": {},
   "outputs": [],
   "source": []
  },
  {
   "cell_type": "code",
   "execution_count": null,
   "id": "a966ceac-4168-4b9e-9ca6-b27db51013e1",
   "metadata": {},
   "outputs": [],
   "source": []
  },
  {
   "cell_type": "code",
   "execution_count": null,
   "id": "a2f37679-14a3-47ed-86c1-97e96320e1fd",
   "metadata": {},
   "outputs": [],
   "source": [
    "#| hide\n",
    "import nbdev; nbdev.nbdev_export()"
   ]
  }
 ],
 "metadata": {
  "kernelspec": {
   "display_name": "python3",
   "language": "python",
   "name": "python3"
  }
 },
 "nbformat": 4,
 "nbformat_minor": 5
}

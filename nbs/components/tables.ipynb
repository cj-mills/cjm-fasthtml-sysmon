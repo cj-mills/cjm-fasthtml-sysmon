{
 "cells": [
  {
   "cell_type": "markdown",
   "id": "cd8f509d-8004-4d48-8d42-ba441e8a36eb",
   "metadata": {},
   "source": [
    "# tables\n",
    "\n",
    "> Table components for data visualization."
   ]
  },
  {
   "cell_type": "code",
   "execution_count": null,
   "id": "95db0591-2ffe-42be-9801-577e08b0d02a",
   "metadata": {},
   "outputs": [],
   "source": [
    "#| default_exp components.tables"
   ]
  },
  {
   "cell_type": "code",
   "execution_count": null,
   "id": "a4ccfc9f-fb79-41c4-ac4f-b45553a118f7",
   "metadata": {},
   "outputs": [],
   "source": [
    "#| hide\n",
    "from nbdev.showdoc import *"
   ]
  },
  {
   "cell_type": "code",
   "execution_count": null,
   "id": "89613b50-e4f3-4a98-aa16-0343961d087f",
   "metadata": {},
   "outputs": [],
   "source": "#| export\nfrom fasthtml.common import *\n\n# DaisyUI imports\nfrom cjm_fasthtml_daisyui.components.data_display.badge import badge, badge_colors, badge_sizes\nfrom cjm_fasthtml_daisyui.components.data_display.table import table, table_modifiers, table_sizes\n\n# Tailwind imports\nfrom cjm_fasthtml_tailwind.utilities.sizing import w\nfrom cjm_fasthtml_tailwind.utilities.typography import font_size, font_weight\nfrom cjm_fasthtml_tailwind.core.base import combine_classes\n\n# HTML IDs\nfrom cjm_fasthtml_sysmon.core.html_ids import HtmlIds"
  },
  {
   "cell_type": "code",
   "execution_count": null,
   "id": "5bbc56ed-fedb-47fb-a531-b9d8fe1d18ab",
   "metadata": {},
   "outputs": [],
   "source": []
  },
  {
   "cell_type": "code",
   "execution_count": null,
   "id": "283a1d59-1a3f-4dc3-9355-36584d458911",
   "metadata": {},
   "outputs": [],
   "source": "#| export\ndef render_cpu_processes_table(top_cpu):\n    \"\"\"Render the CPU processes table.\"\"\"\n    return Div(\n        Table(\n            Thead(\n                Tr(\n                    Th(\"PID\", cls=combine_classes(font_size.xs, w(16))),\n                    Th(\"Name\", cls=str(font_size.xs)),\n                    Th(\"CPU %\", cls=combine_classes(font_size.xs, w(20))),\n                    Th(\"Memory\", cls=combine_classes(font_size.xs, w(24))),\n                    Th(\"User\", cls=str(font_size.xs))\n                )\n            ),\n            Tbody(\n                *[Tr(\n                    Td(str(proc['pid']), cls=str(font_size.xs)),\n                    Td(\n                        proc['name'],\n                        cls=combine_classes(font_size.xs, font_weight.medium)\n                    ),\n                    Td(\n                        Label(\n                            f\"{proc['cpu_percent']:.1f}%\",\n                            cls=combine_classes(\n                                badge,\n                                badge_colors.error if proc['cpu_percent'] > 50 else\n                                badge_colors.warning if proc['cpu_percent'] > 25 else\n                                badge_colors.info,\n                                badge_sizes.sm\n                            )\n                        )\n                    ),\n                    Td(f\"{proc['memory_mb']:.0f} MB\", cls=str(font_size.xs)),\n                    Td(proc['username'], cls=str(font_size.xs))\n                ) for proc in top_cpu]\n            ),\n            cls=combine_classes(table, table_modifiers.zebra, table_sizes.xs, w.full)\n        ),\n        id=HtmlIds.CPU_PROCESSES_TABLE\n    )"
  },
  {
   "cell_type": "code",
   "execution_count": null,
   "id": "fa530baf-7210-4e9d-9573-c3c81d05334d",
   "metadata": {},
   "outputs": [],
   "source": []
  },
  {
   "cell_type": "code",
   "execution_count": null,
   "id": "8ad556ca-37db-4092-b12f-59e2e995933f",
   "metadata": {},
   "outputs": [],
   "source": "#| export\ndef render_memory_processes_table(top_memory):\n    \"\"\"Render the memory processes table.\"\"\"\n    return Div(\n        Table(\n            Thead(\n                Tr(\n                    Th(\"PID\", cls=combine_classes(font_size.xs, w(16))),\n                    Th(\"Name\", cls=str(font_size.xs)),\n                    Th(\"Memory %\", cls=combine_classes(font_size.xs, w(20))),\n                    Th(\"Memory\", cls=combine_classes(font_size.xs, w(24))),\n                    Th(\"User\", cls=str(font_size.xs))\n                )\n            ),\n            Tbody(\n                *[Tr(\n                    Td(str(proc['pid']), cls=str(font_size.xs)),\n                    Td(\n                        proc['name'],\n                        cls=combine_classes(font_size.xs, font_weight.medium)\n                    ),\n                    Td(\n                        Label(\n                            f\"{proc['memory_percent']:.1f}%\",\n                            cls=combine_classes(\n                                badge,\n                                badge_colors.error if proc['memory_percent'] > 50 else\n                                badge_colors.warning if proc['memory_percent'] > 25 else\n                                badge_colors.info,\n                                badge_sizes.sm\n                            )\n                        )\n                    ),\n                    Td(f\"{proc['memory_mb']:.0f} MB\", cls=str(font_size.xs)),\n                    Td(proc['username'], cls=str(font_size.xs))\n                ) for proc in top_memory]\n            ),\n            cls=combine_classes(table, table_modifiers.zebra, table_sizes.xs, w.full)\n        ),\n        id=HtmlIds.MEMORY_PROCESSES_TABLE\n    )"
  },
  {
   "cell_type": "code",
   "execution_count": null,
   "id": "fcf1392e-a424-4562-ac61-c2b63a27b97f",
   "metadata": {},
   "outputs": [],
   "source": []
  },
  {
   "cell_type": "code",
   "execution_count": null,
   "id": "4b5dbc01-268c-426a-946b-0db6e3f52ae9",
   "metadata": {},
   "outputs": [],
   "source": []
  },
  {
   "cell_type": "code",
   "execution_count": null,
   "id": "dbd2228d-1c08-4c81-be69-eadf0126204b",
   "metadata": {},
   "outputs": [],
   "source": []
  },
  {
   "cell_type": "code",
   "execution_count": null,
   "id": "0f11627e-d569-4fc9-ad84-a09a3b74b95d",
   "metadata": {},
   "outputs": [],
   "source": []
  },
  {
   "cell_type": "code",
   "execution_count": null,
   "id": "a966ceac-4168-4b9e-9ca6-b27db51013e1",
   "metadata": {},
   "outputs": [],
   "source": []
  },
  {
   "cell_type": "code",
   "execution_count": null,
   "id": "a2f37679-14a3-47ed-86c1-97e96320e1fd",
   "metadata": {},
   "outputs": [],
   "source": [
    "#| hide\n",
    "import nbdev; nbdev.nbdev_export()"
   ]
  }
 ],
 "metadata": {
  "kernelspec": {
   "display_name": "python3",
   "language": "python",
   "name": "python3"
  }
 },
 "nbformat": 4,
 "nbformat_minor": 5
}

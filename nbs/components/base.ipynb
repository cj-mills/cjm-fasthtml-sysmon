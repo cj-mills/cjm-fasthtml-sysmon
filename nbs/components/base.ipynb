{
 "cells": [
  {
   "cell_type": "markdown",
   "id": "cd8f509d-8004-4d48-8d42-ba441e8a36eb",
   "metadata": {},
   "source": [
    "# base\n",
    "\n",
    "> Base component helpers and utilities."
   ]
  },
  {
   "cell_type": "code",
   "execution_count": null,
   "id": "95db0591-2ffe-42be-9801-577e08b0d02a",
   "metadata": {},
   "outputs": [],
   "source": [
    "#| default_exp components.base"
   ]
  },
  {
   "cell_type": "code",
   "execution_count": null,
   "id": "a4ccfc9f-fb79-41c4-ac4f-b45553a118f7",
   "metadata": {},
   "outputs": [],
   "source": [
    "#| hide\n",
    "from nbdev.showdoc import *"
   ]
  },
  {
   "cell_type": "code",
   "execution_count": null,
   "id": "89613b50-e4f3-4a98-aa16-0343961d087f",
   "metadata": {},
   "outputs": [],
   "source": [
    "#| export\n",
    "from fasthtml.common import *\n",
    "from fasthtml.common import FT\n",
    "\n",
    "# DaisyUI imports\n",
    "from cjm_fasthtml_daisyui.components.data_display.badge import badge, badge_colors, badge_sizes\n",
    "\n",
    "# Tailwind imports\n",
    "from cjm_fasthtml_tailwind.utilities.spacing import m\n",
    "from cjm_fasthtml_tailwind.utilities.flexbox_and_grid import flex_display, gap, flex\n",
    "from cjm_fasthtml_tailwind.core.base import combine_classes\n",
    "\n",
    "# HTML IDs\n",
    "from cjm_fasthtml_sysmon.core.html_ids import HtmlIds"
   ]
  },
  {
   "cell_type": "code",
   "execution_count": null,
   "id": "5bbc56ed-fedb-47fb-a531-b9d8fe1d18ab",
   "metadata": {},
   "outputs": [],
   "source": []
  },
  {
   "cell_type": "code",
   "execution_count": null,
   "id": "283a1d59-1a3f-4dc3-9355-36584d458911",
   "metadata": {},
   "outputs": [],
   "source": [
    "#| export\n",
    "def render_process_count(\n",
    "    total:int  # The total number of processes\n",
    ")-> FT:  # A Span element containing the process count badge\n",
    "    \"\"\"Render the process count badge.\"\"\"\n",
    "    return Span(\n",
    "        f\"{total} processes\",\n",
    "        cls=combine_classes(badge, badge_colors.primary, badge_sizes.lg),\n",
    "        id=HtmlIds.PROCESS_COUNT\n",
    "    )"
   ]
  },
  {
   "cell_type": "code",
   "execution_count": null,
   "id": "59cdd5fd-7f7a-4923-9033-54ff0682bfbe",
   "metadata": {},
   "outputs": [
    {
     "data": {
      "text/markdown": [
       "```html\n",
       "<span id=\"process-count\" class=\"badge badge-primary badge-lg\">199 processes</span>\n",
       "```"
      ],
      "text/plain": [
       "span(('199 processes',),{'id': 'process-count', 'class': 'badge badge-primary badge-lg'})"
      ]
     },
     "execution_count": null,
     "metadata": {},
     "output_type": "execute_result"
    }
   ],
   "source": [
    "from cjm_fasthtml_sysmon.monitors.processes import get_process_info\n",
    "\n",
    "proc_info = get_process_info()\n",
    "render_process_count(total=proc_info['total'])"
   ]
  },
  {
   "cell_type": "code",
   "execution_count": null,
   "id": "fa530baf-7210-4e9d-9573-c3c81d05334d",
   "metadata": {},
   "outputs": [],
   "source": []
  },
  {
   "cell_type": "code",
   "execution_count": null,
   "id": "8ad556ca-37db-4092-b12f-59e2e995933f",
   "metadata": {},
   "outputs": [],
   "source": [
    "#| export\n",
    "def render_process_status(\n",
    "    status_counts:dict  # Dictionary mapping process status names to their counts\n",
    ")-> FT:  # A Div element containing status badges\n",
    "    \"\"\"Render the process status badges.\"\"\"\n",
    "    return Div(\n",
    "        *[Span(\n",
    "            f\"{status}: {count}\",\n",
    "            cls=combine_classes(\n",
    "                badge,\n",
    "                badge_colors.info if status == 'running' else badge_colors.neutral,\n",
    "                badge_sizes.sm,\n",
    "                m.r(2)\n",
    "            )\n",
    "        ) for status, count in status_counts.items()],\n",
    "        cls=combine_classes(flex_display, flex.wrap, gap(1), m.b(4)),\n",
    "        id=HtmlIds.PROCESS_STATUS\n",
    "    )"
   ]
  },
  {
   "cell_type": "code",
   "execution_count": null,
   "id": "763864b3-361c-4d45-ab4a-5fd4036a2ade",
   "metadata": {},
   "outputs": [
    {
     "data": {
      "text/markdown": [
       "```html\n",
       "<div id=\"process-status\" class=\"flex flex-wrap gap-1 mb-4\">\n",
       "<span class=\"badge badge-neutral badge-sm mr-2\">sleeping: 198</span><span class=\"badge badge-info badge-sm mr-2\">running: 1</span></div>\n",
       "\n",
       "```"
      ],
      "text/plain": [
       "div((span(('sleeping: 198',),{'class': 'badge badge-neutral badge-sm mr-2'}), span(('running: 1',),{'class': 'badge badge-info badge-sm mr-2'})),{'id': 'process-status', 'class': 'flex flex-wrap gap-1 mb-4'})"
      ]
     },
     "execution_count": null,
     "metadata": {},
     "output_type": "execute_result"
    }
   ],
   "source": [
    "from cjm_fasthtml_sysmon.monitors.processes import get_process_info\n",
    "\n",
    "proc_info = get_process_info()\n",
    "render_process_status(status_counts=proc_info['status_counts'])"
   ]
  },
  {
   "cell_type": "code",
   "execution_count": null,
   "id": "fcf1392e-a424-4562-ac61-c2b63a27b97f",
   "metadata": {},
   "outputs": [],
   "source": []
  },
  {
   "cell_type": "code",
   "execution_count": null,
   "id": "4b5dbc01-268c-426a-946b-0db6e3f52ae9",
   "metadata": {},
   "outputs": [],
   "source": []
  },
  {
   "cell_type": "code",
   "execution_count": null,
   "id": "dbd2228d-1c08-4c81-be69-eadf0126204b",
   "metadata": {},
   "outputs": [],
   "source": []
  },
  {
   "cell_type": "code",
   "execution_count": null,
   "id": "0f11627e-d569-4fc9-ad84-a09a3b74b95d",
   "metadata": {},
   "outputs": [],
   "source": []
  },
  {
   "cell_type": "code",
   "execution_count": null,
   "id": "a966ceac-4168-4b9e-9ca6-b27db51013e1",
   "metadata": {},
   "outputs": [],
   "source": []
  },
  {
   "cell_type": "code",
   "execution_count": null,
   "id": "a2f37679-14a3-47ed-86c1-97e96320e1fd",
   "metadata": {},
   "outputs": [],
   "source": [
    "#| hide\n",
    "import nbdev; nbdev.nbdev_export()"
   ]
  }
 ],
 "metadata": {
  "kernelspec": {
   "display_name": "python3",
   "language": "python",
   "name": "python3"
  }
 },
 "nbformat": 4,
 "nbformat_minor": 5
}

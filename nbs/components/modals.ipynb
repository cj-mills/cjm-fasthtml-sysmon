{
 "cells": [
  {
   "cell_type": "markdown",
   "id": "cd8f509d-8004-4d48-8d42-ba441e8a36eb",
   "metadata": {},
   "source": [
    "# modals\n",
    "\n",
    "> Modal components (settings, dialogs, etc.)."
   ]
  },
  {
   "cell_type": "code",
   "execution_count": null,
   "id": "95db0591-2ffe-42be-9801-577e08b0d02a",
   "metadata": {},
   "outputs": [],
   "source": [
    "#| default_exp components.modals"
   ]
  },
  {
   "cell_type": "code",
   "execution_count": null,
   "id": "a4ccfc9f-fb79-41c4-ac4f-b45553a118f7",
   "metadata": {},
   "outputs": [],
   "source": [
    "#| hide\n",
    "from nbdev.showdoc import *"
   ]
  },
  {
   "cell_type": "code",
   "execution_count": null,
   "id": "89613b50-e4f3-4a98-aa16-0343961d087f",
   "metadata": {},
   "outputs": [],
   "source": "#| export\nfrom fasthtml.common import *\n\n# DaisyUI imports\nfrom cjm_fasthtml_daisyui.components.actions.button import btn, btn_colors, btn_sizes, btn_styles, btn_modifiers\nfrom cjm_fasthtml_daisyui.components.actions.modal import modal, modal_box, modal_action\nfrom cjm_fasthtml_daisyui.components.data_input.range_slider import range_dui, range_colors\nfrom cjm_fasthtml_daisyui.components.data_input.label import label\nfrom cjm_fasthtml_daisyui.utilities.semantic_colors import text_dui\n\n# Tailwind imports\nfrom cjm_fasthtml_tailwind.utilities.spacing import m\nfrom cjm_fasthtml_tailwind.utilities.flexbox_and_grid import flex_display, gap, justify\nfrom cjm_fasthtml_tailwind.utilities.sizing import w, max_w\nfrom cjm_fasthtml_tailwind.utilities.typography import font_size, font_weight\nfrom cjm_fasthtml_tailwind.utilities.layout import position, right, top\nfrom cjm_fasthtml_tailwind.core.base import combine_classes\n\n# HTML IDs\nfrom cjm_fasthtml_sysmon.core.html_ids import HtmlIds"
  },
  {
   "cell_type": "code",
   "execution_count": null,
   "id": "5bbc56ed-fedb-47fb-a531-b9d8fe1d18ab",
   "metadata": {},
   "outputs": [],
   "source": []
  },
  {
   "cell_type": "code",
   "execution_count": null,
   "id": "283a1d59-1a3f-4dc3-9355-36584d458911",
   "metadata": {},
   "outputs": [],
   "source": "#| export\ndef render_settings_modal(refresh_intervals:dict):\n    \"\"\"Render the settings modal for configuring refresh intervals.\"\"\"\n    return Dialog(\n        Div(\n            # Close button at corner\n            Form(\n                Button(\n                    \"✕\",\n                    cls=combine_classes(\n                        btn,\n                        btn_sizes.sm,\n                        btn_modifiers.circle,\n                        btn_styles.ghost,\n                        position.absolute,\n                        right._2,\n                        top._2\n                    )\n                ),\n                method=\"dialog\"\n            ),\n            H3(\"Refresh Interval Settings\", cls=combine_classes(font_size.lg, font_weight.bold, m.b(4))),\n            P(\"Adjust the refresh intervals for each component (in seconds)\",\n              cls=combine_classes(text_dui.base_content, font_size.sm, m.b(6))),\n\n            # Settings form\n            Div(\n                # CPU interval\n                Div(\n                    Label(\n                        Span(\"CPU\", cls=combine_classes(font_weight.medium)),\n                        Span(f\"{refresh_intervals['cpu']}s\", id=HtmlIds.CPU_INTERVAL_VALUE,\n                             cls=combine_classes(text_dui.primary, font_weight.medium)),\n                        cls=combine_classes(label, flex_display, justify.between, m.b(2))\n                    ),\n                    Input(\n                        type=\"range\",\n                        min=\"1\",\n                        max=\"30\",\n                        value=str(refresh_intervals['cpu']),\n                        id=HtmlIds.CPU_INTERVAL,\n                        cls=combine_classes(range_dui, range_colors.primary, w.full),\n                        oninput=f\"document.getElementById('{HtmlIds.CPU_INTERVAL_VALUE}').textContent = this.value + 's'\"\n                    ),\n                    cls=str(m.b(4))\n                ),\n\n                # Memory interval\n                Div(\n                    Label(\n                        Span(\"Memory\", cls=combine_classes(font_weight.medium)),\n                        Span(f\"{refresh_intervals['memory']}s\", id=HtmlIds.MEMORY_INTERVAL_VALUE,\n                             cls=combine_classes(text_dui.primary, font_weight.medium)),\n                        cls=combine_classes(label, flex_display, justify.between, m.b(2))\n                    ),\n                    Input(\n                        type=\"range\",\n                        min=\"1\",\n                        max=\"30\",\n                        value=str(refresh_intervals['memory']),\n                        id=HtmlIds.MEMORY_INTERVAL,\n                        cls=combine_classes(range_dui, range_colors.primary, w.full),\n                        oninput=f\"document.getElementById('{HtmlIds.MEMORY_INTERVAL_VALUE}').textContent = this.value + 's'\"\n                    ),\n                    cls=str(m.b(4))\n                ),\n\n                # Disk interval\n                Div(\n                    Label(\n                        Span(\"Disk\", cls=combine_classes(font_weight.medium)),\n                        Span(f\"{refresh_intervals['disk']}s\", id=HtmlIds.DISK_INTERVAL_VALUE,\n                             cls=combine_classes(text_dui.primary, font_weight.medium)),\n                        cls=combine_classes(label, flex_display, justify.between, m.b(2))\n                    ),\n                    Input(\n                        type=\"range\",\n                        min=\"5\",\n                        max=\"60\",\n                        value=str(refresh_intervals['disk']),\n                        id=HtmlIds.DISK_INTERVAL,\n                        cls=combine_classes(range_dui, range_colors.primary, w.full),\n                        oninput=f\"document.getElementById('{HtmlIds.DISK_INTERVAL_VALUE}').textContent = this.value + 's'\"\n                    ),\n                    cls=str(m.b(4))\n                ),\n\n                # Network interval\n                Div(\n                    Label(\n                        Span(\"Network\", cls=combine_classes(font_weight.medium)),\n                        Span(f\"{refresh_intervals['network']}s\", id=HtmlIds.NETWORK_INTERVAL_VALUE,\n                             cls=combine_classes(text_dui.primary, font_weight.medium)),\n                        cls=combine_classes(label, flex_display, justify.between, m.b(2))\n                    ),\n                    Input(\n                        type=\"range\",\n                        min=\"1\",\n                        max=\"30\",\n                        value=str(refresh_intervals['network']),\n                        id=HtmlIds.NETWORK_INTERVAL,\n                        cls=combine_classes(range_dui, range_colors.primary, w.full),\n                        oninput=f\"document.getElementById('{HtmlIds.NETWORK_INTERVAL_VALUE}').textContent = this.value + 's'\"\n                    ),\n                    cls=str(m.b(4))\n                ),\n\n                # Process interval\n                Div(\n                    Label(\n                        Span(\"Processes\", cls=combine_classes(font_weight.medium)),\n                        Span(f\"{refresh_intervals['process']}s\", id=HtmlIds.PROCESS_INTERVAL_VALUE,\n                             cls=combine_classes(text_dui.primary, font_weight.medium)),\n                        cls=combine_classes(label, flex_display, justify.between, m.b(2))\n                    ),\n                    Input(\n                        type=\"range\",\n                        min=\"2\",\n                        max=\"60\",\n                        value=str(refresh_intervals['process']),\n                        id=HtmlIds.PROCESS_INTERVAL,\n                        cls=combine_classes(range_dui, range_colors.primary, w.full),\n                        oninput=f\"document.getElementById('{HtmlIds.PROCESS_INTERVAL_VALUE}').textContent = this.value + 's'\"\n                    ),\n                    cls=str(m.b(4))\n                ),\n\n                # GPU interval\n                Div(\n                    Label(\n                        Span(\"GPU\", cls=combine_classes(font_weight.medium)),\n                        Span(f\"{refresh_intervals['gpu']}s\", id=HtmlIds.GPU_INTERVAL_VALUE,\n                             cls=combine_classes(text_dui.primary, font_weight.medium)),\n                        cls=combine_classes(label, flex_display, justify.between, m.b(2))\n                    ),\n                    Input(\n                        type=\"range\",\n                        min=\"1\",\n                        max=\"30\",\n                        value=str(refresh_intervals['gpu']),\n                        id=HtmlIds.GPU_INTERVAL,\n                        cls=combine_classes(range_dui, range_colors.primary, w.full),\n                        oninput=f\"document.getElementById('{HtmlIds.GPU_INTERVAL_VALUE}').textContent = this.value + 's'\"\n                    ),\n                    cls=str(m.b(4))\n                ),\n\n                # Temperature interval\n                Div(\n                    Label(\n                        Span(\"Temperature\", cls=combine_classes(font_weight.medium)),\n                        Span(f\"{refresh_intervals['temperature']}s\", id=HtmlIds.TEMPERATURE_INTERVAL_VALUE,\n                             cls=combine_classes(text_dui.primary, font_weight.medium)),\n                        cls=combine_classes(label, flex_display, justify.between, m.b(2))\n                    ),\n                    Input(\n                        type=\"range\",\n                        min=\"2\",\n                        max=\"60\",\n                        value=str(refresh_intervals['temperature']),\n                        id=HtmlIds.TEMPERATURE_INTERVAL,\n                        cls=combine_classes(range_dui, range_colors.primary, w.full),\n                        oninput=f\"document.getElementById('{HtmlIds.TEMPERATURE_INTERVAL_VALUE}').textContent = this.value + 's'\"\n                    ),\n                    cls=str(m.b(4))\n                ),\n                cls=str(m.b(6))\n            ),\n\n            # Action buttons\n            Div(\n                Button(\n                    \"Apply\",\n                    cls=combine_classes(btn, btn_colors.primary),\n                    hx_post=\"/update_intervals\",\n                    hx_vals=f\"js:{{cpu: document.getElementById('{HtmlIds.CPU_INTERVAL}').value, memory: document.getElementById('{HtmlIds.MEMORY_INTERVAL}').value, disk: document.getElementById('{HtmlIds.DISK_INTERVAL}').value, network: document.getElementById('{HtmlIds.NETWORK_INTERVAL}').value, process: document.getElementById('{HtmlIds.PROCESS_INTERVAL}').value, gpu: document.getElementById('{HtmlIds.GPU_INTERVAL}').value, temperature: document.getElementById('{HtmlIds.TEMPERATURE_INTERVAL}').value}}\",\n                    hx_swap=\"none\"\n                ),\n                Form(\n                    Button(\"Cancel\", cls=combine_classes(btn, btn_styles.ghost)),\n                    method=\"dialog\",\n                    cls=\"inline\"\n                ),\n                cls=combine_classes(modal_action, gap(2))\n            ),\n            cls=combine_classes(modal_box, w(\"11/12\"), max_w._2xl)\n        ),\n        id=HtmlIds.SETTINGS_MODAL,\n        cls=str(modal)\n    )"
  },
  {
   "cell_type": "code",
   "execution_count": null,
   "id": "fcf1392e-a424-4562-ac61-c2b63a27b97f",
   "metadata": {},
   "outputs": [],
   "source": []
  },
  {
   "cell_type": "code",
   "execution_count": null,
   "id": "4b5dbc01-268c-426a-946b-0db6e3f52ae9",
   "metadata": {},
   "outputs": [],
   "source": []
  },
  {
   "cell_type": "code",
   "execution_count": null,
   "id": "dbd2228d-1c08-4c81-be69-eadf0126204b",
   "metadata": {},
   "outputs": [],
   "source": []
  },
  {
   "cell_type": "code",
   "execution_count": null,
   "id": "0f11627e-d569-4fc9-ad84-a09a3b74b95d",
   "metadata": {},
   "outputs": [],
   "source": []
  },
  {
   "cell_type": "code",
   "execution_count": null,
   "id": "a966ceac-4168-4b9e-9ca6-b27db51013e1",
   "metadata": {},
   "outputs": [],
   "source": []
  },
  {
   "cell_type": "code",
   "execution_count": null,
   "id": "a2f37679-14a3-47ed-86c1-97e96320e1fd",
   "metadata": {},
   "outputs": [],
   "source": [
    "#| hide\n",
    "import nbdev; nbdev.nbdev_export()"
   ]
  }
 ],
 "metadata": {
  "kernelspec": {
   "display_name": "python3",
   "language": "python",
   "name": "python3"
  }
 },
 "nbformat": 4,
 "nbformat_minor": 5
}

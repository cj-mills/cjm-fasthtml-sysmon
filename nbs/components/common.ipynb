{
 "cells": [
  {
   "cell_type": "markdown",
   "id": "cd8f509d-8004-4d48-8d42-ba441e8a36eb",
   "metadata": {},
   "source": [
    "# common\n",
    "\n",
    "> Common UI elements (progress bars, badges, stats, etc.)."
   ]
  },
  {
   "cell_type": "code",
   "execution_count": null,
   "id": "95db0591-2ffe-42be-9801-577e08b0d02a",
   "metadata": {},
   "outputs": [],
   "source": [
    "#| default_exp components.common"
   ]
  },
  {
   "cell_type": "code",
   "execution_count": null,
   "id": "a4ccfc9f-fb79-41c4-ac4f-b45553a118f7",
   "metadata": {},
   "outputs": [],
   "source": [
    "#| hide\n",
    "from nbdev.showdoc import *"
   ]
  },
  {
   "cell_type": "code",
   "execution_count": null,
   "id": "89613b50-e4f3-4a98-aa16-0343961d087f",
   "metadata": {},
   "outputs": [],
   "source": [
    "#| export\n",
    "from fasthtml.common import FT\n",
    "from fasthtml.common import Div, Span, Progress\n",
    "from cjm_fasthtml_sysmon.core.utils import get_progress_color\n",
    "\n",
    "# DaisyUI imports\n",
    "from cjm_fasthtml_daisyui.components.data_display.stat import stat, stat_title, stat_value, stat_desc\n",
    "from cjm_fasthtml_daisyui.components.feedback.progress import progress\n",
    "from cjm_fasthtml_daisyui.utilities.semantic_colors import text_dui\n",
    "\n",
    "# Tailwind imports\n",
    "from cjm_fasthtml_tailwind.utilities.spacing import m\n",
    "from cjm_fasthtml_tailwind.utilities.flexbox_and_grid import justify\n",
    "from cjm_fasthtml_tailwind.utilities.sizing import w\n",
    "from cjm_fasthtml_tailwind.utilities.typography import font_size\n",
    "from cjm_fasthtml_tailwind.core.base import combine_classes"
   ]
  },
  {
   "cell_type": "code",
   "execution_count": null,
   "id": "5bbc56ed-fedb-47fb-a531-b9d8fe1d18ab",
   "metadata": {},
   "outputs": [],
   "source": []
  },
  {
   "cell_type": "code",
   "execution_count": null,
   "id": "283a1d59-1a3f-4dc3-9355-36584d458911",
   "metadata": {},
   "outputs": [],
   "source": [
    "#| export\n",
    "def render_stat_card(\n",
    "    title_text:str,  # The title text for the stat card\n",
    "    value_text:str,  # The main value to display in the stat card\n",
    "    desc_text:str=None,  # Optional description text below the value\n",
    "    value_color:str=None  # Optional color class for the value text\n",
    ")-> FT:  # A Div element containing the stat card with consistent styling\n",
    "    \"\"\"Render a stat card with consistent styling.\"\"\"\n",
    "    value_classes = [stat_value]\n",
    "    if value_color:\n",
    "        value_classes.append(value_color)\n",
    "\n",
    "    return Div(\n",
    "        Div(title_text, cls=combine_classes(stat_title, text_dui.base_content)),\n",
    "        Div(value_text, cls=combine_classes(*value_classes)),\n",
    "        Div(desc_text, cls=str(stat_desc)) if desc_text else None,\n",
    "        cls=str(stat)\n",
    "    )"
   ]
  },
  {
   "cell_type": "code",
   "execution_count": null,
   "id": "fa530baf-7210-4e9d-9573-c3c81d05334d",
   "metadata": {},
   "outputs": [],
   "source": []
  },
  {
   "cell_type": "code",
   "execution_count": null,
   "id": "8ad556ca-37db-4092-b12f-59e2e995933f",
   "metadata": {},
   "outputs": [],
   "source": [
    "#| export\n",
    "def render_progress_bar(\n",
    "    value:float,  # The current progress value\n",
    "    max_value:float=100,  # The maximum value for the progress bar (default: 100)\n",
    "    label:str=None  # Optional label text to display above the progress bar\n",
    ")-> FT:  # A Div element containing the progress bar with optional label\n",
    "    \"\"\"Render a progress bar with label.\"\"\"\n",
    "    color = get_progress_color(value)\n",
    "\n",
    "    return Div(\n",
    "        Div(\n",
    "            Span(label or f\"{value:.1f}%\", cls=combine_classes(font_size.xs, text_dui.base_content)),\n",
    "            Span(f\"{value:.1f}%\", cls=combine_classes(font_size.xs, text_dui.base_content)),\n",
    "            cls=combine_classes(justify.between, m.b(1), \"flex\")\n",
    "        ) if label else None,\n",
    "        Progress(\n",
    "            value=str(value),\n",
    "            max=str(max_value),\n",
    "            cls=combine_classes(progress, color, w.full)\n",
    "        )\n",
    "    )"
   ]
  },
  {
   "cell_type": "code",
   "execution_count": null,
   "id": "fcf1392e-a424-4562-ac61-c2b63a27b97f",
   "metadata": {},
   "outputs": [],
   "source": []
  },
  {
   "cell_type": "code",
   "execution_count": null,
   "id": "4b5dbc01-268c-426a-946b-0db6e3f52ae9",
   "metadata": {},
   "outputs": [],
   "source": []
  },
  {
   "cell_type": "code",
   "execution_count": null,
   "id": "dbd2228d-1c08-4c81-be69-eadf0126204b",
   "metadata": {},
   "outputs": [],
   "source": []
  },
  {
   "cell_type": "code",
   "execution_count": null,
   "id": "0f11627e-d569-4fc9-ad84-a09a3b74b95d",
   "metadata": {},
   "outputs": [],
   "source": []
  },
  {
   "cell_type": "code",
   "execution_count": null,
   "id": "a966ceac-4168-4b9e-9ca6-b27db51013e1",
   "metadata": {},
   "outputs": [],
   "source": []
  },
  {
   "cell_type": "code",
   "execution_count": null,
   "id": "a2f37679-14a3-47ed-86c1-97e96320e1fd",
   "metadata": {},
   "outputs": [],
   "source": [
    "#| hide\n",
    "import nbdev; nbdev.nbdev_export()"
   ]
  }
 ],
 "metadata": {
  "kernelspec": {
   "display_name": "python3",
   "language": "python",
   "name": "python3"
  }
 },
 "nbformat": 4,
 "nbformat_minor": 5
}

{
 "cells": [
  {
   "cell_type": "markdown",
   "id": "cd8f509d-8004-4d48-8d42-ba441e8a36eb",
   "metadata": {},
   "source": [
    "# common\n",
    "\n",
    "> Common UI components for rendering progress bars and stat cards."
   ]
  },
  {
   "cell_type": "code",
   "execution_count": null,
   "id": "95db0591-2ffe-42be-9801-577e08b0d02a",
   "metadata": {},
   "outputs": [],
   "source": [
    "#| default_exp components.common"
   ]
  },
  {
   "cell_type": "code",
   "execution_count": null,
   "id": "a4ccfc9f-fb79-41c4-ac4f-b45553a118f7",
   "metadata": {},
   "outputs": [],
   "source": [
    "#| hide\n",
    "from nbdev.showdoc import *"
   ]
  },
  {
   "cell_type": "code",
   "execution_count": null,
   "id": "89613b50-e4f3-4a98-aa16-0343961d087f",
   "metadata": {},
   "outputs": [],
   "source": [
    "#| export\n",
    "from fasthtml.common import FT\n",
    "from fasthtml.common import Div, Span, Progress\n",
    "from cjm_fasthtml_sysmon.core.utils import get_progress_color\n",
    "\n",
    "# DaisyUI imports\n",
    "from cjm_fasthtml_daisyui.components.data_display.stat import stat, stat_title, stat_value, stat_desc\n",
    "from cjm_fasthtml_daisyui.components.feedback.progress import progress\n",
    "from cjm_fasthtml_daisyui.utilities.semantic_colors import text_dui\n",
    "\n",
    "# Tailwind imports\n",
    "from cjm_fasthtml_tailwind.utilities.spacing import m\n",
    "from cjm_fasthtml_tailwind.utilities.flexbox_and_grid import justify\n",
    "from cjm_fasthtml_tailwind.utilities.sizing import w\n",
    "from cjm_fasthtml_tailwind.utilities.typography import font_size\n",
    "from cjm_fasthtml_tailwind.core.base import combine_classes"
   ]
  },
  {
   "cell_type": "code",
   "execution_count": null,
   "id": "5bbc56ed-fedb-47fb-a531-b9d8fe1d18ab",
   "metadata": {},
   "outputs": [],
   "source": []
  },
  {
   "cell_type": "code",
   "execution_count": null,
   "id": "283a1d59-1a3f-4dc3-9355-36584d458911",
   "metadata": {},
   "outputs": [],
   "source": [
    "#| export\n",
    "def render_stat_card(\n",
    "    title_text:str,  # The title text for the stat card\n",
    "    value_text:str,  # The main value to display in the stat card\n",
    "    desc_text:str=None,  # Optional description text below the value\n",
    "    value_color:str=None  # Optional color class for the value text\n",
    ")-> FT:  # A Div element containing the stat card with consistent styling\n",
    "    \"\"\"Render a stat card with enhanced value prominence and improved hierarchy.\n",
    "    \n",
    "    Design improvements:\n",
    "    - Value is hero element (2xl font, bold weight)\n",
    "    - Title more subtle (xs font with reduced opacity)\n",
    "    - Description even more subtle (xs font with further reduced opacity)\n",
    "    - Better visual hierarchy through size and weight contrast\n",
    "    \"\"\"\n",
    "    from cjm_fasthtml_tailwind.utilities.typography import font_weight\n",
    "    \n",
    "    value_classes = [stat_value, font_size._2xl, font_weight.bold]\n",
    "    if value_color:\n",
    "        value_classes.append(value_color)\n",
    "    else:\n",
    "        value_classes.append(text_dui.base_content)\n",
    "\n",
    "    return Div(\n",
    "        Div(title_text, cls=combine_classes(\n",
    "            stat_title, \n",
    "            font_size.xs,\n",
    "            text_dui.base_content.opacity(60)  # More subtle\n",
    "        )),\n",
    "        Div(value_text, cls=combine_classes(*value_classes)),\n",
    "        Div(desc_text, cls=combine_classes(\n",
    "            stat_desc,\n",
    "            font_size.xs,\n",
    "            text_dui.base_content.opacity(50)  # Even more subtle\n",
    "        )) if desc_text else None,\n",
    "        cls=str(stat)\n",
    "    )"
   ]
  },
  {
   "cell_type": "code",
   "execution_count": null,
   "id": "a62e95e1-2207-4455-a2c3-7b0f0b78dfe8",
   "metadata": {},
   "outputs": [
    {
     "data": {
      "text/markdown": [
       "```html\n",
       "<div class=\"stat\">\n",
       "  <div class=\"stat-title text-xs text-base-content/60\">System</div>\n",
       "  <div class=\"stat-value text-2xl font-bold text-base-content\">Linux 6.14.0-33-generic</div>\n",
       "  <div class=\"stat-desc text-xs text-base-content/50\">x86_64</div>\n",
       "</div>\n",
       "\n",
       "```"
      ],
      "text/plain": [
       "div((div(('System',),{'class': 'stat-title text-xs text-base-content/60'}), div(('Linux 6.14.0-33-generic',),{'class': 'stat-value text-2xl font-bold text-base-content'}), div(('x86_64',),{'class': 'stat-desc text-xs text-base-content/50'})),{'class': 'stat'})"
      ]
     },
     "execution_count": null,
     "metadata": {},
     "output_type": "execute_result"
    }
   ],
   "source": [
    "from cjm_fasthtml_sysmon.monitors.system import get_static_system_info\n",
    "info = get_static_system_info()\n",
    "render_stat_card(\"System\", f\"{info['os']} {info['os_release']}\", info['architecture'])"
   ]
  },
  {
   "cell_type": "code",
   "execution_count": null,
   "id": "eae49d3a-cc6a-4a7f-a4a6-a143840a4393",
   "metadata": {},
   "outputs": [],
   "source": []
  },
  {
   "cell_type": "code",
   "execution_count": null,
   "id": "fa530baf-7210-4e9d-9573-c3c81d05334d",
   "metadata": {},
   "outputs": [],
   "source": []
  },
  {
   "cell_type": "code",
   "execution_count": null,
   "id": "8ad556ca-37db-4092-b12f-59e2e995933f",
   "metadata": {},
   "outputs": [],
   "source": [
    "#| export\n",
    "def render_progress_bar(\n",
    "    value:float,  # The current progress value\n",
    "    max_value:float=100,  # The maximum value for the progress bar (default: 100)\n",
    "    label:str=None  # Optional label text to display above the progress bar\n",
    ")-> FT:  # A Div element containing the progress bar with optional label\n",
    "    \"\"\"Render a progress bar with improved label hierarchy and visibility.\n",
    "    \n",
    "    Design improvements:\n",
    "    - Label is more prominent (sm font, medium weight)\n",
    "    - Percentage value is subtle (xs font, reduced opacity)\n",
    "    - Progress bar has better height (h-2 instead of default thin bar)\n",
    "    - Better vertical spacing\n",
    "    \"\"\"\n",
    "    from cjm_fasthtml_tailwind.utilities.typography import font_weight\n",
    "    from cjm_fasthtml_tailwind.utilities.sizing import h\n",
    "    \n",
    "    color = get_progress_color(value)\n",
    "\n",
    "    return Div(\n",
    "        Div(\n",
    "            Span(label or f\"{value:.1f}%\", cls=combine_classes(\n",
    "                font_size.sm,  # Larger, more readable\n",
    "                font_weight.medium,  # More prominent\n",
    "                text_dui.base_content\n",
    "            )),\n",
    "            Span(f\"{value:.1f}%\", cls=combine_classes(\n",
    "                font_size.xs,\n",
    "                text_dui.base_content.opacity(70)  # More subtle\n",
    "            )),\n",
    "            cls=combine_classes(justify.between, m.b(2), \"flex\")  # Increased margin\n",
    "        ) if label else None,\n",
    "        Progress(\n",
    "            value=str(value),\n",
    "            max=str(max_value),\n",
    "            cls=combine_classes(progress, color, w.full, h(2))  # Taller progress bar\n",
    "        )\n",
    "    )"
   ]
  },
  {
   "cell_type": "code",
   "execution_count": null,
   "id": "fcf1392e-a424-4562-ac61-c2b63a27b97f",
   "metadata": {},
   "outputs": [
    {
     "data": {
      "text/markdown": [
       "```html\n",
       "<div>\n",
       "  <div class=\"justify-between mb-2 flex\">\n",
       "<span class=\"text-sm font-medium text-base-content\">Label</span><span class=\"text-xs text-base-content/70\">10.0%</span>  </div>\n",
       "<progress value=\"10\" max=\"100\" class=\"progress progress-success w-full h-2\"></progress></div>\n",
       "\n",
       "```"
      ],
      "text/plain": [
       "div((div((span(('Label',),{'class': 'text-sm font-medium text-base-content'}), span(('10.0%',),{'class': 'text-xs text-base-content/70'})),{'class': 'justify-between mb-2 flex'}), progress((),{'value': '10', 'max': '100', 'class': 'progress progress-success w-full h-2'})),{})"
      ]
     },
     "execution_count": null,
     "metadata": {},
     "output_type": "execute_result"
    }
   ],
   "source": [
    "render_progress_bar(10, 100, \"Label\")"
   ]
  },
  {
   "cell_type": "code",
   "execution_count": null,
   "id": "4b5dbc01-268c-426a-946b-0db6e3f52ae9",
   "metadata": {},
   "outputs": [],
   "source": []
  },
  {
   "cell_type": "code",
   "execution_count": null,
   "id": "dbd2228d-1c08-4c81-be69-eadf0126204b",
   "metadata": {},
   "outputs": [],
   "source": []
  },
  {
   "cell_type": "code",
   "execution_count": null,
   "id": "0f11627e-d569-4fc9-ad84-a09a3b74b95d",
   "metadata": {},
   "outputs": [],
   "source": []
  },
  {
   "cell_type": "code",
   "execution_count": null,
   "id": "a966ceac-4168-4b9e-9ca6-b27db51013e1",
   "metadata": {},
   "outputs": [],
   "source": []
  },
  {
   "cell_type": "code",
   "execution_count": null,
   "id": "a2f37679-14a3-47ed-86c1-97e96320e1fd",
   "metadata": {},
   "outputs": [],
   "source": [
    "#| hide\n",
    "import nbdev; nbdev.nbdev_export()"
   ]
  }
 ],
 "metadata": {
  "kernelspec": {
   "display_name": "python3",
   "language": "python",
   "name": "python3"
  }
 },
 "nbformat": 4,
 "nbformat_minor": 5
}
